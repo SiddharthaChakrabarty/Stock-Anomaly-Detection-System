{
  "cells": [
    {
      "cell_type": "code",
      "execution_count": null,
      "metadata": {
        "colab": {
          "base_uri": "https://localhost:8080/"
        },
        "id": "nZbn_aK_rJtU",
        "outputId": "cab6cc5e-e0ad-411a-8c65-cbd433c4134e"
      },
      "outputs": [
        {
          "name": "stdout",
          "output_type": "stream",
          "text": [
            "Collecting alpha_vantage\n",
            "  Downloading alpha_vantage-2.3.1-py3-none-any.whl (31 kB)\n",
            "Requirement already satisfied: aiohttp in /usr/local/lib/python3.10/dist-packages (from alpha_vantage) (3.9.3)\n",
            "Requirement already satisfied: requests in /usr/local/lib/python3.10/dist-packages (from alpha_vantage) (2.31.0)\n",
            "Requirement already satisfied: aiosignal>=1.1.2 in /usr/local/lib/python3.10/dist-packages (from aiohttp->alpha_vantage) (1.3.1)\n",
            "Requirement already satisfied: attrs>=17.3.0 in /usr/local/lib/python3.10/dist-packages (from aiohttp->alpha_vantage) (23.2.0)\n",
            "Requirement already satisfied: frozenlist>=1.1.1 in /usr/local/lib/python3.10/dist-packages (from aiohttp->alpha_vantage) (1.4.1)\n",
            "Requirement already satisfied: multidict<7.0,>=4.5 in /usr/local/lib/python3.10/dist-packages (from aiohttp->alpha_vantage) (6.0.5)\n",
            "Requirement already satisfied: yarl<2.0,>=1.0 in /usr/local/lib/python3.10/dist-packages (from aiohttp->alpha_vantage) (1.9.4)\n",
            "Requirement already satisfied: async-timeout<5.0,>=4.0 in /usr/local/lib/python3.10/dist-packages (from aiohttp->alpha_vantage) (4.0.3)\n",
            "Requirement already satisfied: charset-normalizer<4,>=2 in /usr/local/lib/python3.10/dist-packages (from requests->alpha_vantage) (3.3.2)\n",
            "Requirement already satisfied: idna<4,>=2.5 in /usr/local/lib/python3.10/dist-packages (from requests->alpha_vantage) (3.6)\n",
            "Requirement already satisfied: urllib3<3,>=1.21.1 in /usr/local/lib/python3.10/dist-packages (from requests->alpha_vantage) (2.0.7)\n",
            "Requirement already satisfied: certifi>=2017.4.17 in /usr/local/lib/python3.10/dist-packages (from requests->alpha_vantage) (2024.2.2)\n",
            "Installing collected packages: alpha_vantage\n",
            "Successfully installed alpha_vantage-2.3.1\n"
          ]
        }
      ],
      "source": [
        "pip install alpha_vantage"
      ]
    },
    {
      "cell_type": "code",
      "execution_count": null,
      "metadata": {
        "id": "ljI8su4mros0"
      },
      "outputs": [],
      "source": [
        "from alpha_vantage.timeseries import TimeSeries"
      ]
    },
    {
      "cell_type": "code",
      "execution_count": null,
      "metadata": {
        "id": "4NKLlo8NrsR0"
      },
      "outputs": [],
      "source": [
        "apikey=\"YOUR API KEY\" "
      ]
    },
    {
      "cell_type": "code",
      "execution_count": null,
      "metadata": {
        "id": "IV4eVlvwr6KO"
      },
      "outputs": [],
      "source": [
        "ts = TimeSeries(key=apikey, output_format='pandas')"
      ]
    },
    {
      "cell_type": "code",
      "execution_count": null,
      "metadata": {
        "id": "TBafEH6cr6qx"
      },
      "outputs": [],
      "source": [
        "msft, meta_data = ts.get_daily(symbol='msft', outputsize='full')"
      ]
    },
    {
      "cell_type": "code",
      "execution_count": null,
      "metadata": {
        "colab": {
          "base_uri": "https://localhost:8080/"
        },
        "id": "rdjdcG_VtGic",
        "outputId": "a9716a5c-9c2c-4890-fade-2a357726407d"
      },
      "outputs": [
        {
          "name": "stdout",
          "output_type": "stream",
          "text": [
            "            1. open  2. high  3. low  4. close   5. volume\n",
            "date                                                      \n",
            "2024-03-08   407.96   410.42  404.33    406.22  18002186.0\n",
            "2024-03-07   406.12   409.78  402.24    409.14  18718479.0\n",
            "2024-03-06   402.97   405.16  398.39    402.09  22344149.0\n",
            "2024-03-05   413.96   414.25  400.64    402.65  26919177.0\n",
            "2024-03-04   413.44   417.35  412.32    414.92  17595956.0\n"
          ]
        }
      ],
      "source": [
        "print(msft.head())"
      ]
    },
    {
      "cell_type": "code",
      "execution_count": null,
      "metadata": {
        "colab": {
          "base_uri": "https://localhost:8080/",
          "height": 564
        },
        "id": "LPbSNEVmt_FC",
        "outputId": "88ee1164-b2df-41d8-f68e-324d739f353c"
      },
      "outputs": [
        {
          "data": {
            "image/png": "[encoded data removed]",
            "text/plain": [
              "<Figure size 1000x600 with 1 Axes>"
            ]
          },
          "metadata": {},
          "output_type": "display_data"
        }
      ],
      "source": [
        "import matplotlib.pyplot as plt\n",
        "\n",
        "# Plotting the boxplot\n",
        "plt.figure(figsize=(10, 6))\n",
        "plt.boxplot(msft['4. close'], vert=False)\n",
        "plt.title('Boxplot of Daily Close Prices for MSFT')\n",
        "plt.xlabel('Price')\n",
        "plt.ylabel('MSFT')\n",
        "plt.show()\n"
      ]
    },
    {
      "cell_type": "code",
      "execution_count": null,
      "metadata": {
        "id": "ScpI1AMJuF5a"
      },
      "outputs": [],
      "source": [
        "msft.to_csv('msft_daily_prices.csv')"
      ]
    },
    {
      "cell_type": "code",
      "execution_count": null,
      "metadata": {
        "id": "OBu_PLLrulnp"
      },
      "outputs": [],
      "source": [
        "import pandas as pd\n",
        "\n",
        "df=pd.read_csv('msft_daily_prices.csv')"
      ]
    },
    {
      "cell_type": "code",
      "execution_count": null,
      "metadata": {
        "colab": {
          "base_uri": "https://localhost:8080/",
          "height": 206
        },
        "id": "WAj_rYjJu7T3",
        "outputId": "d9f93684-8a7f-4d78-d68f-84540d0f5709"
      },
      "outputs": [
        {
          "data": {
            "application/vnd.google.colaboratory.intrinsic+json": {
              "summary": "{\n  \"name\": \"df\",\n  \"rows\": 6127,\n  \"fields\": [\n    {\n      \"column\": \"date\",\n      \"properties\": {\n        \"dtype\": \"object\",\n        \"num_unique_values\": 6127,\n        \"samples\": [\n          \"2018-10-15\",\n          \"2001-09-10\",\n          \"2006-10-10\"\n        ],\n        \"semantic_type\": \"\",\n        \"description\": \"\"\n      }\n    },\n    {\n      \"column\": \"1. open\",\n      \"properties\": {\n        \"dtype\": \"number\",\n        \"std\": 91.10844464239679,\n        \"min\": 15.2,\n        \"max\": 420.555,\n        \"num_unique_values\": 4157,\n        \"samples\": [\n          31.26,\n          244.84,\n          35.7899\n        ],\n        \"semantic_type\": \"\",\n        \"description\": \"\"\n      }\n    },\n    {\n      \"column\": \"2. high\",\n      \"properties\": {\n        \"dtype\": \"number\",\n        \"std\": 91.99695859357547,\n        \"min\": 15.62,\n        \"max\": 420.82,\n        \"num_unique_values\": 4149,\n        \"samples\": [\n          335.14,\n          55.87,\n          29.97\n        ],\n        \"semantic_type\": \"\",\n        \"description\": \"\"\n      }\n    },\n    {\n      \"column\": \"3. low\",\n      \"properties\": {\n        \"dtype\": \"number\",\n        \"std\": 90.1814715141081,\n        \"min\": 14.87,\n        \"max\": 415.09,\n        \"num_unique_values\": 4167,\n        \"samples\": [\n          54.495,\n          269.5191,\n          235.09\n        ],\n        \"semantic_type\": \"\",\n        \"description\": \"\"\n      }\n    },\n    {\n      \"column\": \"4. close\",\n      \"properties\": {\n        \"dtype\": \"number\",\n        \"std\": 91.14308256070218,\n        \"min\": 15.15,\n        \"max\": 420.55,\n        \"num_unique_values\": 4212,\n        \"samples\": [\n          286.5,\n          331.83,\n          91.27\n        ],\n        \"semantic_type\": \"\",\n        \"description\": \"\"\n      }\n    },\n    {\n      \"column\": \"5. volume\",\n      \"properties\": {\n        \"dtype\": \"number\",\n        \"std\": 27345735.65051867,\n        \"min\": 5850800.0,\n        \"max\": 591052200.0,\n        \"num_unique_values\": 6117,\n        \"samples\": [\n          48815300.0,\n          52413100.0,\n          52120800.0\n        ],\n        \"semantic_type\": \"\",\n        \"description\": \"\"\n      }\n    }\n  ]\n}",
              "type": "dataframe",
              "variable_name": "df"
            },
            "text/html": [
              "\n",
              "  <div id=\"df-5988acda-4ea8-4288-a17c-e5e14137a4b1\" class=\"colab-df-container\">\n",
              "    <div>\n",
              "<style scoped>\n",
              "    .dataframe tbody tr th:only-of-type {\n",
              "        vertical-align: middle;\n",
              "    }\n",
              "\n",
              "    .dataframe tbody tr th {\n",
              "        vertical-align: top;\n",
              "    }\n",
              "\n",
              "    .dataframe thead th {\n",
              "        text-align: right;\n",
              "    }\n",
              "</style>\n",
              "<table border=\"1\" class=\"dataframe\">\n",
              "  <thead>\n",
              "    <tr style=\"text-align: right;\">\n",
              "      <th></th>\n",
              "      <th>date</th>\n",
              "      <th>1. open</th>\n",
              "      <th>2. high</th>\n",
              "      <th>3. low</th>\n",
              "      <th>4. close</th>\n",
              "      <th>5. volume</th>\n",
              "    </tr>\n",
              "  </thead>\n",
              "  <tbody>\n",
              "    <tr>\n",
              "      <th>0</th>\n",
              "      <td>2024-03-08</td>\n",
              "      <td>407.96</td>\n",
              "      <td>410.42</td>\n",
              "      <td>404.33</td>\n",
              "      <td>406.22</td>\n",
              "      <td>18002186.0</td>\n",
              "    </tr>\n",
              "    <tr>\n",
              "      <th>1</th>\n",
              "      <td>2024-03-07</td>\n",
              "      <td>406.12</td>\n",
              "      <td>409.78</td>\n",
              "      <td>402.24</td>\n",
              "      <td>409.14</td>\n",
              "      <td>18718479.0</td>\n",
              "    </tr>\n",
              "    <tr>\n",
              "      <th>2</th>\n",
              "      <td>2024-03-06</td>\n",
              "      <td>402.97</td>\n",
              "      <td>405.16</td>\n",
              "      <td>398.39</td>\n",
              "      <td>402.09</td>\n",
              "      <td>22344149.0</td>\n",
              "    </tr>\n",
              "    <tr>\n",
              "      <th>3</th>\n",
              "      <td>2024-03-05</td>\n",
              "      <td>413.96</td>\n",
              "      <td>414.25</td>\n",
              "      <td>400.64</td>\n",
              "      <td>402.65</td>\n",
              "      <td>26919177.0</td>\n",
              "    </tr>\n",
              "    <tr>\n",
              "      <th>4</th>\n",
              "      <td>2024-03-04</td>\n",
              "      <td>413.44</td>\n",
              "      <td>417.35</td>\n",
              "      <td>412.32</td>\n",
              "      <td>414.92</td>\n",
              "      <td>17595956.0</td>\n",
              "    </tr>\n",
              "  </tbody>\n",
              "</table>\n",
              "</div>\n",
              "    <div class=\"colab-df-buttons\">\n",
              "\n",
              "  <div class=\"colab-df-container\">\n",
              "    <button class=\"colab-df-convert\" onclick=\"convertToInteractive('df-5988acda-4ea8-4288-a17c-e5e14137a4b1')\"\n",
              "            title=\"Convert this dataframe to an interactive table.\"\n",
              "            style=\"display:none;\">\n",
              "\n",
              "  <svg xmlns=\"http://www.w3.org/2000/svg\" height=\"24px\" viewBox=\"0 -960 960 960\">\n",
              "    <path d=\"M120-120v-720h720v720H120Zm60-500h600v-160H180v160Zm220 220h160v-160H400v160Zm0 220h160v-160H400v160ZM180-400h160v-160H180v160Zm440 0h160v-160H620v160ZM180-180h160v-160H180v160Zm440 0h160v-160H620v160Z\"/>\n",
              "  </svg>\n",
              "    </button>\n",
              "\n",
              "  <style>\n",
              "    .colab-df-container {\n",
              "      display:flex;\n",
              "      gap: 12px;\n",
              "    }\n",
              "\n",
              "    .colab-df-convert {\n",
              "      background-color: #E8F0FE;\n",
              "      border: none;\n",
              "      border-radius: 50%;\n",
              "      cursor: pointer;\n",
              "      display: none;\n",
              "      fill: #1967D2;\n",
              "      height: 32px;\n",
              "      padding: 0 0 0 0;\n",
              "      width: 32px;\n",
              "    }\n",
              "\n",
              "    .colab-df-convert:hover {\n",
              "      background-color: #E2EBFA;\n",
              "      box-shadow: 0px 1px 2px rgba(60, 64, 67, 0.3), 0px 1px 3px 1px rgba(60, 64, 67, 0.15);\n",
              "      fill: #174EA6;\n",
              "    }\n",
              "\n",
              "    .colab-df-buttons div {\n",
              "      margin-bottom: 4px;\n",
              "    }\n",
              "\n",
              "    [theme=dark] .colab-df-convert {\n",
              "      background-color: #3B4455;\n",
              "      fill: #D2E3FC;\n",
              "    }\n",
              "\n",
              "    [theme=dark] .colab-df-convert:hover {\n",
              "      background-color: #434B5C;\n",
              "      box-shadow: 0px 1px 3px 1px rgba(0, 0, 0, 0.15);\n",
              "      filter: drop-shadow(0px 1px 2px rgba(0, 0, 0, 0.3));\n",
              "      fill: #FFFFFF;\n",
              "    }\n",
              "  </style>\n",
              "\n",
              "    <script>\n",
              "      const buttonEl =\n",
              "        document.querySelector('#df-5988acda-4ea8-4288-a17c-e5e14137a4b1 button.colab-df-convert');\n",
              "      buttonEl.style.display =\n",
              "        google.colab.kernel.accessAllowed ? 'block' : 'none';\n",
              "\n",
              "      async function convertToInteractive(key) {\n",
              "        const element = document.querySelector('#df-5988acda-4ea8-4288-a17c-e5e14137a4b1');\n",
              "        const dataTable =\n",
              "          await google.colab.kernel.invokeFunction('convertToInteractive',\n",
              "                                                    [key], {});\n",
              "        if (!dataTable) return;\n",
              "\n",
              "        const docLinkHtml = 'Like what you see? Visit the ' +\n",
              "          '<a target=\"_blank\" href=https://colab.research.google.com/notebooks/data_table.ipynb>data table notebook</a>'\n",
              "          + ' to learn more about interactive tables.';\n",
              "        element.innerHTML = '';\n",
              "        dataTable['output_type'] = 'display_data';\n",
              "        await google.colab.output.renderOutput(dataTable, element);\n",
              "        const docLink = document.createElement('div');\n",
              "        docLink.innerHTML = docLinkHtml;\n",
              "        element.appendChild(docLink);\n",
              "      }\n",
              "    </script>\n",
              "  </div>\n",
              "\n",
              "\n",
              "<div id=\"df-f4ea74fe-4a6a-42f2-b5b2-c0b4d747af62\">\n",
              "  <button class=\"colab-df-quickchart\" onclick=\"quickchart('df-f4ea74fe-4a6a-42f2-b5b2-c0b4d747af62')\"\n",
              "            title=\"Suggest charts\"\n",
              "            style=\"display:none;\">\n",
              "\n",
              "<svg xmlns=\"http://www.w3.org/2000/svg\" height=\"24px\"viewBox=\"0 0 24 24\"\n",
              "     width=\"24px\">\n",
              "    <g>\n",
              "        <path d=\"M19 3H5c-1.1 0-2 .9-2 2v14c0 1.1.9 2 2 2h14c1.1 0 2-.9 2-2V5c0-1.1-.9-2-2-2zM9 17H7v-7h2v7zm4 0h-2V7h2v10zm4 0h-2v-4h2v4z\"/>\n",
              "    </g>\n",
              "</svg>\n",
              "  </button>\n",
              "\n",
              "<style>\n",
              "  .colab-df-quickchart {\n",
              "      --bg-color: #E8F0FE;\n",
              "      --fill-color: #1967D2;\n",
              "      --hover-bg-color: #E2EBFA;\n",
              "      --hover-fill-color: #174EA6;\n",
              "      --disabled-fill-color: #AAA;\n",
              "      --disabled-bg-color: #DDD;\n",
              "  }\n",
              "\n",
              "  [theme=dark] .colab-df-quickchart {\n",
              "      --bg-color: #3B4455;\n",
              "      --fill-color: #D2E3FC;\n",
              "      --hover-bg-color: #434B5C;\n",
              "      --hover-fill-color: #FFFFFF;\n",
              "      --disabled-bg-color: #3B4455;\n",
              "      --disabled-fill-color: #666;\n",
              "  }\n",
              "\n",
              "  .colab-df-quickchart {\n",
              "    background-color: var(--bg-color);\n",
              "    border: none;\n",
              "    border-radius: 50%;\n",
              "    cursor: pointer;\n",
              "    display: none;\n",
              "    fill: var(--fill-color);\n",
              "    height: 32px;\n",
              "    padding: 0;\n",
              "    width: 32px;\n",
              "  }\n",
              "\n",
              "  .colab-df-quickchart:hover {\n",
              "    background-color: var(--hover-bg-color);\n",
              "    box-shadow: 0 1px 2px rgba(60, 64, 67, 0.3), 0 1px 3px 1px rgba(60, 64, 67, 0.15);\n",
              "    fill: var(--button-hover-fill-color);\n",
              "  }\n",
              "\n",
              "  .colab-df-quickchart-complete:disabled,\n",
              "  .colab-df-quickchart-complete:disabled:hover {\n",
              "    background-color: var(--disabled-bg-color);\n",
              "    fill: var(--disabled-fill-color);\n",
              "    box-shadow: none;\n",
              "  }\n",
              "\n",
              "  .colab-df-spinner {\n",
              "    border: 2px solid var(--fill-color);\n",
              "    border-color: transparent;\n",
              "    border-bottom-color: var(--fill-color);\n",
              "    animation:\n",
              "      spin 1s steps(1) infinite;\n",
              "  }\n",
              "\n",
              "  @keyframes spin {\n",
              "    0% {\n",
              "      border-color: transparent;\n",
              "      border-bottom-color: var(--fill-color);\n",
              "      border-left-color: var(--fill-color);\n",
              "    }\n",
              "    20% {\n",
              "      border-color: transparent;\n",
              "      border-left-color: var(--fill-color);\n",
              "      border-top-color: var(--fill-color);\n",
              "    }\n",
              "    30% {\n",
              "      border-color: transparent;\n",
              "      border-left-color: var(--fill-color);\n",
              "      border-top-color: var(--fill-color);\n",
              "      border-right-color: var(--fill-color);\n",
              "    }\n",
              "    40% {\n",
              "      border-color: transparent;\n",
              "      border-right-color: var(--fill-color);\n",
              "      border-top-color: var(--fill-color);\n",
              "    }\n",
              "    60% {\n",
              "      border-color: transparent;\n",
              "      border-right-color: var(--fill-color);\n",
              "    }\n",
              "    80% {\n",
              "      border-color: transparent;\n",
              "      border-right-color: var(--fill-color);\n",
              "      border-bottom-color: var(--fill-color);\n",
              "    }\n",
              "    90% {\n",
              "      border-color: transparent;\n",
              "      border-bottom-color: var(--fill-color);\n",
              "    }\n",
              "  }\n",
              "</style>\n",
              "\n",
              "  <script>\n",
              "    async function quickchart(key) {\n",
              "      const quickchartButtonEl =\n",
              "        document.querySelector('#' + key + ' button');\n",
              "      quickchartButtonEl.disabled = true;  // To prevent multiple clicks.\n",
              "      quickchartButtonEl.classList.add('colab-df-spinner');\n",
              "      try {\n",
              "        const charts = await google.colab.kernel.invokeFunction(\n",
              "            'suggestCharts', [key], {});\n",
              "      } catch (error) {\n",
              "        console.error('Error during call to suggestCharts:', error);\n",
              "      }\n",
              "      quickchartButtonEl.classList.remove('colab-df-spinner');\n",
              "      quickchartButtonEl.classList.add('colab-df-quickchart-complete');\n",
              "    }\n",
              "    (() => {\n",
              "      let quickchartButtonEl =\n",
              "        document.querySelector('#df-f4ea74fe-4a6a-42f2-b5b2-c0b4d747af62 button');\n",
              "      quickchartButtonEl.style.display =\n",
              "        google.colab.kernel.accessAllowed ? 'block' : 'none';\n",
              "    })();\n",
              "  </script>\n",
              "</div>\n",
              "    </div>\n",
              "  </div>\n"
            ],
            "text/plain": [
              "         date  1. open  2. high  3. low  4. close   5. volume\n",
              "0  2024-03-08   407.96   410.42  404.33    406.22  18002186.0\n",
              "1  2024-03-07   406.12   409.78  402.24    409.14  18718479.0\n",
              "2  2024-03-06   402.97   405.16  398.39    402.09  22344149.0\n",
              "3  2024-03-05   413.96   414.25  400.64    402.65  26919177.0\n",
              "4  2024-03-04   413.44   417.35  412.32    414.92  17595956.0"
            ]
          },
          "execution_count": 10,
          "metadata": {},
          "output_type": "execute_result"
        }
      ],
      "source": [
        "df.head()"
      ]
    },
    {
      "cell_type": "code",
      "execution_count": null,
      "metadata": {
        "id": "DdpjCE_y_6c1"
      },
      "outputs": [],
      "source": [
        "features = ['1. open', '4. close', '2. high', '3. low']"
      ]
    },
    {
      "cell_type": "code",
      "execution_count": null,
      "metadata": {
        "id": "1QuTdDxiABd8"
      },
      "outputs": [],
      "source": [
        "from sklearn.preprocessing import StandardScaler\n",
        "scaler = StandardScaler()\n",
        "df[features] = scaler.fit_transform(df[features])"
      ]
    },
    {
      "cell_type": "code",
      "execution_count": null,
      "metadata": {
        "colab": {
          "base_uri": "https://localhost:8080/",
          "height": 74
        },
        "id": "lnIY5P2cAmU_",
        "outputId": "cfb97ca4-0e52-4e0f-8f74-2b8dad4c8813"
      },
      "outputs": [
        {
          "data": {
            "text/html": [
              "<style>#sk-container-id-1 {color: black;background-color: white;}#sk-container-id-1 pre{padding: 0;}#sk-container-id-1 div.sk-toggleable {background-color: white;}#sk-container-id-1 label.sk-toggleable__label {cursor: pointer;display: block;width: 100%;margin-bottom: 0;padding: 0.3em;box-sizing: border-box;text-align: center;}#sk-container-id-1 label.sk-toggleable__label-arrow:before {content: \"▸\";float: left;margin-right: 0.25em;color: #696969;}#sk-container-id-1 label.sk-toggleable__label-arrow:hover:before {color: black;}#sk-container-id-1 div.sk-estimator:hover label.sk-toggleable__label-arrow:before {color: black;}#sk-container-id-1 div.sk-toggleable__content {max-height: 0;max-width: 0;overflow: hidden;text-align: left;background-color: #f0f8ff;}#sk-container-id-1 div.sk-toggleable__content pre {margin: 0.2em;color: black;border-radius: 0.25em;background-color: #f0f8ff;}#sk-container-id-1 input.sk-toggleable__control:checked~div.sk-toggleable__content {max-height: 200px;max-width: 100%;overflow: auto;}#sk-container-id-1 input.sk-toggleable__control:checked~label.sk-toggleable__label-arrow:before {content: \"▾\";}#sk-container-id-1 div.sk-estimator input.sk-toggleable__control:checked~label.sk-toggleable__label {background-color: #d4ebff;}#sk-container-id-1 div.sk-label input.sk-toggleable__control:checked~label.sk-toggleable__label {background-color: #d4ebff;}#sk-container-id-1 input.sk-hidden--visually {border: 0;clip: rect(1px 1px 1px 1px);clip: rect(1px, 1px, 1px, 1px);height: 1px;margin: -1px;overflow: hidden;padding: 0;position: absolute;width: 1px;}#sk-container-id-1 div.sk-estimator {font-family: monospace;background-color: #f0f8ff;border: 1px dotted black;border-radius: 0.25em;box-sizing: border-box;margin-bottom: 0.5em;}#sk-container-id-1 div.sk-estimator:hover {background-color: #d4ebff;}#sk-container-id-1 div.sk-parallel-item::after {content: \"\";width: 100%;border-bottom: 1px solid gray;flex-grow: 1;}#sk-container-id-1 div.sk-label:hover label.sk-toggleable__label {background-color: #d4ebff;}#sk-container-id-1 div.sk-serial::before {content: \"\";position: absolute;border-left: 1px solid gray;box-sizing: border-box;top: 0;bottom: 0;left: 50%;z-index: 0;}#sk-container-id-1 div.sk-serial {display: flex;flex-direction: column;align-items: center;background-color: white;padding-right: 0.2em;padding-left: 0.2em;position: relative;}#sk-container-id-1 div.sk-item {position: relative;z-index: 1;}#sk-container-id-1 div.sk-parallel {display: flex;align-items: stretch;justify-content: center;background-color: white;position: relative;}#sk-container-id-1 div.sk-item::before, #sk-container-id-1 div.sk-parallel-item::before {content: \"\";position: absolute;border-left: 1px solid gray;box-sizing: border-box;top: 0;bottom: 0;left: 50%;z-index: -1;}#sk-container-id-1 div.sk-parallel-item {display: flex;flex-direction: column;z-index: 1;position: relative;background-color: white;}#sk-container-id-1 div.sk-parallel-item:first-child::after {align-self: flex-end;width: 50%;}#sk-container-id-1 div.sk-parallel-item:last-child::after {align-self: flex-start;width: 50%;}#sk-container-id-1 div.sk-parallel-item:only-child::after {width: 0;}#sk-container-id-1 div.sk-dashed-wrapped {border: 1px dashed gray;margin: 0 0.4em 0.5em 0.4em;box-sizing: border-box;padding-bottom: 0.4em;background-color: white;}#sk-container-id-1 div.sk-label label {font-family: monospace;font-weight: bold;display: inline-block;line-height: 1.2em;}#sk-container-id-1 div.sk-label-container {text-align: center;}#sk-container-id-1 div.sk-container {/* jupyter's `normalize.less` sets `[hidden] { display: none; }` but bootstrap.min.css set `[hidden] { display: none !important; }` so we also need the `!important` here to be able to override the default hidden behavior on the sphinx rendered scikit-learn.org. See: https://github.com/scikit-learn/scikit-learn/issues/21755 */display: inline-block !important;position: relative;}#sk-container-id-1 div.sk-text-repr-fallback {display: none;}</style><div id=\"sk-container-id-1\" class=\"sk-top-container\"><div class=\"sk-text-repr-fallback\"><pre>OneClassSVM(nu=0.05)</pre><b>In a Jupyter environment, please rerun this cell to show the HTML representation or trust the notebook. <br />On GitHub, the HTML representation is unable to render, please try loading this page with nbviewer.org.</b></div><div class=\"sk-container\" hidden><div class=\"sk-item\"><div class=\"sk-estimator sk-toggleable\"><input class=\"sk-toggleable__control sk-hidden--visually\" id=\"sk-estimator-id-1\" type=\"checkbox\" checked><label for=\"sk-estimator-id-1\" class=\"sk-toggleable__label sk-toggleable__label-arrow\">OneClassSVM</label><div class=\"sk-toggleable__content\"><pre>OneClassSVM(nu=0.05)</pre></div></div></div></div></div>"
            ],
            "text/plain": [
              "OneClassSVM(nu=0.05)"
            ]
          },
          "execution_count": 13,
          "metadata": {},
          "output_type": "execute_result"
        }
      ],
      "source": [
        "from sklearn.svm import OneClassSVM\n",
        "model = OneClassSVM(nu=0.05)\n",
        "model.fit(df[features])"
      ]
    },
    {
      "cell_type": "code",
      "execution_count": null,
      "metadata": {
        "colab": {
          "base_uri": "https://localhost:8080/"
        },
        "id": "Zr1gsCS3A3no",
        "outputId": "731b85e0-9d88-4ebb-b1f2-a6da019213c9"
      },
      "outputs": [
        {
          "data": {
            "text/plain": [
              "6127"
            ]
          },
          "execution_count": 14,
          "metadata": {},
          "output_type": "execute_result"
        }
      ],
      "source": [
        "anomaly_scores_svm = model.decision_function(df[features])\n",
        "anomaly_scores_svm.size"
      ]
    },
    {
      "cell_type": "code",
      "execution_count": null,
      "metadata": {
        "colab": {
          "base_uri": "https://localhost:8080/",
          "height": 472
        },
        "id": "SEwCI_93A_BT",
        "outputId": "d408a133-1948-4565-c25a-53c2191fd211"
      },
      "outputs": [
        {
          "data": {
            "image/png": "[encoded data removed]",
            "text/plain": [
              "<Figure size 640x480 with 1 Axes>"
            ]
          },
          "metadata": {},
          "output_type": "display_data"
        }
      ],
      "source": [
        "plt.hist(anomaly_scores_svm, bins=50)\n",
        "plt.title('Anomaly Scores Distribution')\n",
        "plt.xlabel('Anomaly Score')\n",
        "plt.ylabel('Frequency')\n",
        "plt.show()"
      ]
    },
    {
      "cell_type": "code",
      "execution_count": null,
      "metadata": {
        "colab": {
          "base_uri": "https://localhost:8080/"
        },
        "id": "mzQIz4wiBHK9",
        "outputId": "472a2540-ec75-49cc-b19a-297d547b8159"
      },
      "outputs": [
        {
          "name": "stdout",
          "output_type": "stream",
          "text": [
            "Detected anomalies:\n",
            "307\n"
          ]
        }
      ],
      "source": [
        "import numpy as np\n",
        "\n",
        "threshold = np.percentile(anomaly_scores_svm, 5)  # Example: consider 5th percentile as threshold\n",
        "\n",
        "# Flag anomalies based on the threshold\n",
        "df['is_anomaly'] = anomaly_scores_svm < threshold\n",
        "\n",
        "# Print detected anomalies\n",
        "anomalies = df[df['is_anomaly']]\n",
        "print(\"Detected anomalies:\")\n",
        "num_rows, num_cols = anomalies.shape\n",
        "print(num_rows)"
      ]
    },
    {
      "cell_type": "code",
      "execution_count": null,
      "metadata": {
        "colab": {
          "base_uri": "https://localhost:8080/",
          "height": 110
        },
        "id": "yvOudB5vERSM",
        "outputId": "8877c699-9e88-412f-b0d5-1efd3c861eb7"
      },
      "outputs": [
        {
          "name": "stderr",
          "output_type": "stream",
          "text": [
            "/usr/local/lib/python3.10/dist-packages/sklearn/base.py:439: UserWarning: X does not have valid feature names, but IsolationForest was fitted with feature names\n",
            "  warnings.warn(\n"
          ]
        },
        {
          "data": {
            "text/html": [
              "<style>#sk-container-id-2 {color: black;background-color: white;}#sk-container-id-2 pre{padding: 0;}#sk-container-id-2 div.sk-toggleable {background-color: white;}#sk-container-id-2 label.sk-toggleable__label {cursor: pointer;display: block;width: 100%;margin-bottom: 0;padding: 0.3em;box-sizing: border-box;text-align: center;}#sk-container-id-2 label.sk-toggleable__label-arrow:before {content: \"▸\";float: left;margin-right: 0.25em;color: #696969;}#sk-container-id-2 label.sk-toggleable__label-arrow:hover:before {color: black;}#sk-container-id-2 div.sk-estimator:hover label.sk-toggleable__label-arrow:before {color: black;}#sk-container-id-2 div.sk-toggleable__content {max-height: 0;max-width: 0;overflow: hidden;text-align: left;background-color: #f0f8ff;}#sk-container-id-2 div.sk-toggleable__content pre {margin: 0.2em;color: black;border-radius: 0.25em;background-color: #f0f8ff;}#sk-container-id-2 input.sk-toggleable__control:checked~div.sk-toggleable__content {max-height: 200px;max-width: 100%;overflow: auto;}#sk-container-id-2 input.sk-toggleable__control:checked~label.sk-toggleable__label-arrow:before {content: \"▾\";}#sk-container-id-2 div.sk-estimator input.sk-toggleable__control:checked~label.sk-toggleable__label {background-color: #d4ebff;}#sk-container-id-2 div.sk-label input.sk-toggleable__control:checked~label.sk-toggleable__label {background-color: #d4ebff;}#sk-container-id-2 input.sk-hidden--visually {border: 0;clip: rect(1px 1px 1px 1px);clip: rect(1px, 1px, 1px, 1px);height: 1px;margin: -1px;overflow: hidden;padding: 0;position: absolute;width: 1px;}#sk-container-id-2 div.sk-estimator {font-family: monospace;background-color: #f0f8ff;border: 1px dotted black;border-radius: 0.25em;box-sizing: border-box;margin-bottom: 0.5em;}#sk-container-id-2 div.sk-estimator:hover {background-color: #d4ebff;}#sk-container-id-2 div.sk-parallel-item::after {content: \"\";width: 100%;border-bottom: 1px solid gray;flex-grow: 1;}#sk-container-id-2 div.sk-label:hover label.sk-toggleable__label {background-color: #d4ebff;}#sk-container-id-2 div.sk-serial::before {content: \"\";position: absolute;border-left: 1px solid gray;box-sizing: border-box;top: 0;bottom: 0;left: 50%;z-index: 0;}#sk-container-id-2 div.sk-serial {display: flex;flex-direction: column;align-items: center;background-color: white;padding-right: 0.2em;padding-left: 0.2em;position: relative;}#sk-container-id-2 div.sk-item {position: relative;z-index: 1;}#sk-container-id-2 div.sk-parallel {display: flex;align-items: stretch;justify-content: center;background-color: white;position: relative;}#sk-container-id-2 div.sk-item::before, #sk-container-id-2 div.sk-parallel-item::before {content: \"\";position: absolute;border-left: 1px solid gray;box-sizing: border-box;top: 0;bottom: 0;left: 50%;z-index: -1;}#sk-container-id-2 div.sk-parallel-item {display: flex;flex-direction: column;z-index: 1;position: relative;background-color: white;}#sk-container-id-2 div.sk-parallel-item:first-child::after {align-self: flex-end;width: 50%;}#sk-container-id-2 div.sk-parallel-item:last-child::after {align-self: flex-start;width: 50%;}#sk-container-id-2 div.sk-parallel-item:only-child::after {width: 0;}#sk-container-id-2 div.sk-dashed-wrapped {border: 1px dashed gray;margin: 0 0.4em 0.5em 0.4em;box-sizing: border-box;padding-bottom: 0.4em;background-color: white;}#sk-container-id-2 div.sk-label label {font-family: monospace;font-weight: bold;display: inline-block;line-height: 1.2em;}#sk-container-id-2 div.sk-label-container {text-align: center;}#sk-container-id-2 div.sk-container {/* jupyter's `normalize.less` sets `[hidden] { display: none; }` but bootstrap.min.css set `[hidden] { display: none !important; }` so we also need the `!important` here to be able to override the default hidden behavior on the sphinx rendered scikit-learn.org. See: https://github.com/scikit-learn/scikit-learn/issues/21755 */display: inline-block !important;position: relative;}#sk-container-id-2 div.sk-text-repr-fallback {display: none;}</style><div id=\"sk-container-id-2\" class=\"sk-top-container\"><div class=\"sk-text-repr-fallback\"><pre>IsolationForest(contamination=0.1, random_state=42)</pre><b>In a Jupyter environment, please rerun this cell to show the HTML representation or trust the notebook. <br />On GitHub, the HTML representation is unable to render, please try loading this page with nbviewer.org.</b></div><div class=\"sk-container\" hidden><div class=\"sk-item\"><div class=\"sk-estimator sk-toggleable\"><input class=\"sk-toggleable__control sk-hidden--visually\" id=\"sk-estimator-id-2\" type=\"checkbox\" checked><label for=\"sk-estimator-id-2\" class=\"sk-toggleable__label sk-toggleable__label-arrow\">IsolationForest</label><div class=\"sk-toggleable__content\"><pre>IsolationForest(contamination=0.1, random_state=42)</pre></div></div></div></div></div>"
            ],
            "text/plain": [
              "IsolationForest(contamination=0.1, random_state=42)"
            ]
          },
          "execution_count": 17,
          "metadata": {},
          "output_type": "execute_result"
        }
      ],
      "source": [
        "from sklearn.ensemble import IsolationForest\n",
        "import numpy as np\n",
        "\n",
        "# Fit the model\n",
        "clf = IsolationForest(contamination=0.1, random_state=42)\n",
        "clf.fit(df[features])"
      ]
    },
    {
      "cell_type": "code",
      "execution_count": null,
      "metadata": {
        "colab": {
          "base_uri": "https://localhost:8080/"
        },
        "id": "yJ8HWPXhJivD",
        "outputId": "248d3879-103b-427c-e8b4-e637ba3db352"
      },
      "outputs": [
        {
          "data": {
            "text/plain": [
              "6127"
            ]
          },
          "execution_count": 18,
          "metadata": {},
          "output_type": "execute_result"
        }
      ],
      "source": [
        "anomaly_scores_if = clf.decision_function(df[features])\n",
        "anomaly_scores_if.size"
      ]
    },
    {
      "cell_type": "code",
      "execution_count": null,
      "metadata": {
        "colab": {
          "base_uri": "https://localhost:8080/",
          "height": 472
        },
        "id": "DsIAoiGkIBlF",
        "outputId": "7100e64f-018e-4044-c5ee-daee16d2981d"
      },
      "outputs": [
        {
          "data": {
            "image/png": "[encoded data removed]",
            "text/plain": [
              "<Figure size 640x480 with 1 Axes>"
            ]
          },
          "metadata": {},
          "output_type": "display_data"
        }
      ],
      "source": [
        "plt.hist(anomaly_scores_if, bins=50)\n",
        "plt.xlabel('Outlier Score')\n",
        "plt.ylabel('Frequency')\n",
        "plt.title('Isolation Forest Outlier Scores Distribution')\n",
        "plt.show()"
      ]
    },
    {
      "cell_type": "code",
      "execution_count": null,
      "metadata": {
        "colab": {
          "base_uri": "https://localhost:8080/"
        },
        "id": "FCMEmv2mK_gc",
        "outputId": "5b0e2cf5-4a0c-4af0-f876-bb7658316408"
      },
      "outputs": [
        {
          "name": "stdout",
          "output_type": "stream",
          "text": [
            "Detected anomalies:\n",
            "613\n"
          ]
        }
      ],
      "source": [
        "# Predict outliers\n",
        "y_pred = clf.predict(df[features])\n",
        "\n",
        "# Flag anomalies based on the Isolation Forest predictions\n",
        "df['is_anomaly'] = y_pred == -1\n",
        "\n",
        "# Print detected anomalies\n",
        "anomalies = df[df['is_anomaly']]\n",
        "print(\"Detected anomalies:\")\n",
        "num_rows, num_cols = anomalies.shape\n",
        "print(num_rows)"
      ]
    },
    {
      "cell_type": "code",
      "execution_count": null,
      "metadata": {
        "id": "E6MuaaRALWUU"
      },
      "outputs": [],
      "source": [
        "from sklearn.neighbors import LocalOutlierFactor\n",
        "lof = LocalOutlierFactor(n_neighbors=5, contamination=0.1)\n",
        "y_pred = lof.fit_predict(df[features])"
      ]
    },
    {
      "cell_type": "code",
      "execution_count": null,
      "metadata": {
        "colab": {
          "base_uri": "https://localhost:8080/"
        },
        "id": "tw89Cmt8L9jY",
        "outputId": "d28d3a03-f01d-485c-9dae-0468292b2c82"
      },
      "outputs": [
        {
          "name": "stdout",
          "output_type": "stream",
          "text": [
            "Detected anomalies:\n",
            "613\n"
          ]
        }
      ],
      "source": [
        "df['is_anomaly'] = y_pred == -1\n",
        "\n",
        "# Print detected anomalies\n",
        "anomalies = df[df['is_anomaly']]\n",
        "print(\"Detected anomalies:\")\n",
        "num_rows, num_cols = anomalies.shape\n",
        "print(num_rows)"
      ]
    },
    {
      "cell_type": "code",
      "execution_count": null,
      "metadata": {
        "id": "YzZi4Y6EFnPt"
      },
      "outputs": [],
      "source": [
        "from sklearn.model_selection import train_test_split\n",
        "X_scaled = df[features]\n",
        "X_train, X_test = train_test_split(X_scaled, test_size=0.3, random_state=42)"
      ]
    },
    {
      "cell_type": "code",
      "execution_count": null,
      "metadata": {
        "id": "N1ULIhrrFw0P"
      },
      "outputs": [],
      "source": [
        "# Define the architecture of the autoencoder\n",
        "\n",
        "input_dim = len(features)  # Number of features\n",
        "encoding_dim = 32"
      ]
    },
    {
      "cell_type": "code",
      "execution_count": null,
      "metadata": {
        "id": "fEzP7ApGGlU7"
      },
      "outputs": [],
      "source": [
        "from sklearn.metrics import mean_squared_error\n",
        "from keras.models import Model\n",
        "from keras.layers import Input, Dense\n",
        "\n",
        "input_layer = Input(shape=(input_dim,))\n",
        "encoder = Dense(encoding_dim, activation='relu')(input_layer)\n",
        "decoder = Dense(input_dim, activation='relu')(encoder)\n",
        "\n",
        "autoencoder = Model(inputs=input_layer, outputs=decoder)\n",
        "autoencoder.compile(optimizer='adam', loss='mean_squared_error')"
      ]
    },
    {
      "cell_type": "code",
      "execution_count": null,
      "metadata": {
        "colab": {
          "base_uri": "https://localhost:8080/"
        },
        "id": "suZON6DaGzrI",
        "outputId": "fa6999fa-3047-4db7-f11e-bc5b8918e5d5"
      },
      "outputs": [
        {
          "name": "stdout",
          "output_type": "stream",
          "text": [
            "Epoch 1/50\n",
            "67/67 [==============================] - 1s 6ms/step - loss: 0.6643 - val_loss: 0.6277\n",
            "Epoch 2/50\n",
            "67/67 [==============================] - 0s 3ms/step - loss: 0.6008 - val_loss: 0.6274\n",
            "Epoch 3/50\n",
            "67/67 [==============================] - 0s 3ms/step - loss: 0.6006 - val_loss: 0.6272\n",
            "Epoch 4/50\n",
            "67/67 [==============================] - 0s 3ms/step - loss: 0.6004 - val_loss: 0.6271\n",
            "Epoch 5/50\n",
            "67/67 [==============================] - 0s 3ms/step - loss: 0.6003 - val_loss: 0.6270\n",
            "Epoch 6/50\n",
            "67/67 [==============================] - 0s 3ms/step - loss: 0.6003 - val_loss: 0.6269\n",
            "Epoch 7/50\n",
            "67/67 [==============================] - 0s 3ms/step - loss: 0.6002 - val_loss: 0.6269\n",
            "Epoch 8/50\n",
            "67/67 [==============================] - 0s 3ms/step - loss: 0.6002 - val_loss: 0.6269\n",
            "Epoch 9/50\n",
            "67/67 [==============================] - 0s 3ms/step - loss: 0.6002 - val_loss: 0.6269\n",
            "Epoch 10/50\n",
            "67/67 [==============================] - 0s 3ms/step - loss: 0.6002 - val_loss: 0.6269\n",
            "Epoch 11/50\n",
            "67/67 [==============================] - 0s 3ms/step - loss: 0.6002 - val_loss: 0.6269\n",
            "Epoch 12/50\n",
            "67/67 [==============================] - 0s 3ms/step - loss: 0.6002 - val_loss: 0.6269\n",
            "Epoch 13/50\n",
            "67/67 [==============================] - 0s 3ms/step - loss: 0.6002 - val_loss: 0.6269\n",
            "Epoch 14/50\n",
            "67/67 [==============================] - 0s 2ms/step - loss: 0.6002 - val_loss: 0.6269\n",
            "Epoch 15/50\n",
            "67/67 [==============================] - 0s 3ms/step - loss: 0.6002 - val_loss: 0.6269\n",
            "Epoch 16/50\n",
            "67/67 [==============================] - 0s 4ms/step - loss: 0.6002 - val_loss: 0.6269\n",
            "Epoch 17/50\n",
            "67/67 [==============================] - 0s 4ms/step - loss: 0.6002 - val_loss: 0.6269\n",
            "Epoch 18/50\n",
            "67/67 [==============================] - 0s 4ms/step - loss: 0.6002 - val_loss: 0.6269\n",
            "Epoch 19/50\n",
            "67/67 [==============================] - 0s 4ms/step - loss: 0.6002 - val_loss: 0.6269\n",
            "Epoch 20/50\n",
            "67/67 [==============================] - 0s 4ms/step - loss: 0.6002 - val_loss: 0.6269\n",
            "Epoch 21/50\n",
            "67/67 [==============================] - 0s 5ms/step - loss: 0.6002 - val_loss: 0.6269\n",
            "Epoch 22/50\n",
            "67/67 [==============================] - 0s 4ms/step - loss: 0.6002 - val_loss: 0.6269\n",
            "Epoch 23/50\n",
            "67/67 [==============================] - 0s 4ms/step - loss: 0.6002 - val_loss: 0.6269\n",
            "Epoch 24/50\n",
            "67/67 [==============================] - 1s 11ms/step - loss: 0.6002 - val_loss: 0.6269\n",
            "Epoch 25/50\n",
            "67/67 [==============================] - 1s 10ms/step - loss: 0.6002 - val_loss: 0.6269\n",
            "Epoch 26/50\n",
            "67/67 [==============================] - 1s 9ms/step - loss: 0.6002 - val_loss: 0.6269\n",
            "Epoch 27/50\n",
            "67/67 [==============================] - 0s 5ms/step - loss: 0.6002 - val_loss: 0.6269\n",
            "Epoch 28/50\n",
            "67/67 [==============================] - 0s 6ms/step - loss: 0.6002 - val_loss: 0.6269\n",
            "Epoch 29/50\n",
            "67/67 [==============================] - 0s 4ms/step - loss: 0.6002 - val_loss: 0.6269\n",
            "Epoch 30/50\n",
            "67/67 [==============================] - 0s 5ms/step - loss: 0.6002 - val_loss: 0.6269\n",
            "Epoch 31/50\n",
            "67/67 [==============================] - 0s 6ms/step - loss: 0.6002 - val_loss: 0.6269\n",
            "Epoch 32/50\n",
            "67/67 [==============================] - 0s 6ms/step - loss: 0.6002 - val_loss: 0.6269\n",
            "Epoch 33/50\n",
            "67/67 [==============================] - 0s 5ms/step - loss: 0.6002 - val_loss: 0.6269\n",
            "Epoch 34/50\n",
            "67/67 [==============================] - 0s 5ms/step - loss: 0.6002 - val_loss: 0.6269\n",
            "Epoch 35/50\n",
            "67/67 [==============================] - 1s 9ms/step - loss: 0.6002 - val_loss: 0.6269\n",
            "Epoch 36/50\n",
            "67/67 [==============================] - 0s 6ms/step - loss: 0.6002 - val_loss: 0.6269\n",
            "Epoch 37/50\n",
            "67/67 [==============================] - 0s 4ms/step - loss: 0.6002 - val_loss: 0.6269\n",
            "Epoch 38/50\n",
            "67/67 [==============================] - 0s 6ms/step - loss: 0.6002 - val_loss: 0.6269\n",
            "Epoch 39/50\n",
            "67/67 [==============================] - 0s 6ms/step - loss: 0.6002 - val_loss: 0.6269\n",
            "Epoch 40/50\n",
            "67/67 [==============================] - 0s 6ms/step - loss: 0.6002 - val_loss: 0.6269\n",
            "Epoch 41/50\n",
            "67/67 [==============================] - 0s 5ms/step - loss: 0.6002 - val_loss: 0.6269\n",
            "Epoch 42/50\n",
            "67/67 [==============================] - 1s 8ms/step - loss: 0.6002 - val_loss: 0.6269\n",
            "Epoch 43/50\n",
            "67/67 [==============================] - 0s 6ms/step - loss: 0.6002 - val_loss: 0.6269\n",
            "Epoch 44/50\n",
            "67/67 [==============================] - 0s 7ms/step - loss: 0.6002 - val_loss: 0.6269\n",
            "Epoch 45/50\n",
            "67/67 [==============================] - 0s 6ms/step - loss: 0.6002 - val_loss: 0.6269\n",
            "Epoch 46/50\n",
            "67/67 [==============================] - 1s 12ms/step - loss: 0.6002 - val_loss: 0.6269\n",
            "Epoch 47/50\n",
            "67/67 [==============================] - 0s 5ms/step - loss: 0.6002 - val_loss: 0.6269\n",
            "Epoch 48/50\n",
            "67/67 [==============================] - 0s 7ms/step - loss: 0.6002 - val_loss: 0.6269\n",
            "Epoch 49/50\n",
            "67/67 [==============================] - 1s 8ms/step - loss: 0.6002 - val_loss: 0.6269\n",
            "Epoch 50/50\n",
            "67/67 [==============================] - 0s 7ms/step - loss: 0.6002 - val_loss: 0.6269\n",
            "192/192 [==============================] - 1s 5ms/step\n",
            "Detected anomalies:\n",
            "307\n"
          ]
        }
      ],
      "source": [
        "# Train the autoencoder\n",
        "autoencoder.fit(X_train, X_train, epochs=50, batch_size=64, shuffle=True, validation_data=(X_test, X_test))\n",
        "\n",
        "# Use the trained autoencoder to reconstruct the input data\n",
        "reconstructed_data = autoencoder.predict(df[features])\n",
        "\n",
        "# Calculate reconstruction error for each data point\n",
        "mse = np.mean(np.power(X_scaled - reconstructed_data, 2), axis=1)\n",
        "\n",
        "# Identify anomalies\n",
        "threshold = np.percentile(mse, 5)\n",
        "\n",
        "# Flag anomalies based on the threshold\n",
        "df['is_anomaly'] = mse < threshold\n",
        "\n",
        "# Print detected anomalies\n",
        "anomalies = df[df['is_anomaly']]\n",
        "print(\"Detected anomalies:\")\n",
        "num_rows, num_cols = anomalies.shape\n",
        "print(num_rows)"
      ]
    },
    {
      "cell_type": "code",
      "execution_count": null,
      "metadata": {
        "colab": {
          "base_uri": "https://localhost:8080/",
          "height": 472
        },
        "id": "s6Mk_bN9G1Yn",
        "outputId": "e4b82fe3-6572-4f9f-a5a9-2f61a52dd60d"
      },
      "outputs": [
        {
          "data": {
            "image/png": "[encoded data removed]",
            "text/plain": [
              "<Figure size 640x480 with 1 Axes>"
            ]
          },
          "metadata": {},
          "output_type": "display_data"
        }
      ],
      "source": [
        "# Visualize reconstruction error\n",
        "plt.hist(mse, bins=50)\n",
        "plt.xlabel(\"Reconstruction Error\")\n",
        "plt.ylabel(\"Frequency\")\n",
        "plt.title(\"Histogram of Reconstruction Error\")\n",
        "plt.show()"
      ]
    },
    {
      "cell_type": "markdown",
      "metadata": {
        "id": "OHNebY-bSv9k"
      },
      "source": [
        "LSTM"
      ]
    },
    {
      "cell_type": "code",
      "execution_count": null,
      "metadata": {
        "id": "uyR0GuFHHqRD"
      },
      "outputs": [],
      "source": [
        "from keras.models import Sequential\n",
        "from keras.layers import LSTM, Dense"
      ]
    },
    {
      "cell_type": "code",
      "execution_count": null,
      "metadata": {
        "colab": {
          "base_uri": "https://localhost:8080/"
        },
        "id": "MHaJF52PNNez",
        "outputId": "01d89d11-5063-47b9-9dab-76c2f1eee273"
      },
      "outputs": [
        {
          "name": "stdout",
          "output_type": "stream",
          "text": [
            "Epoch 1/50\n",
            "96/96 [==============================] - 3s 8ms/step - loss: 0.0771\n",
            "Epoch 2/50\n",
            "96/96 [==============================] - 1s 8ms/step - loss: 0.0026\n",
            "Epoch 3/50\n",
            "96/96 [==============================] - 1s 8ms/step - loss: 0.0014\n",
            "Epoch 4/50\n",
            "96/96 [==============================] - 1s 8ms/step - loss: 0.0013\n",
            "Epoch 5/50\n",
            "96/96 [==============================] - 1s 8ms/step - loss: 0.0013\n",
            "Epoch 6/50\n",
            "96/96 [==============================] - 1s 8ms/step - loss: 0.0011\n",
            "Epoch 7/50\n",
            "96/96 [==============================] - 1s 8ms/step - loss: 0.0011\n",
            "Epoch 8/50\n",
            "96/96 [==============================] - 1s 8ms/step - loss: 0.0011\n",
            "Epoch 9/50\n",
            "96/96 [==============================] - 1s 10ms/step - loss: 0.0010\n",
            "Epoch 10/50\n",
            "96/96 [==============================] - 1s 12ms/step - loss: 0.0010\n",
            "Epoch 11/50\n",
            "96/96 [==============================] - 1s 11ms/step - loss: 9.4579e-04\n",
            "Epoch 12/50\n",
            "96/96 [==============================] - 1s 8ms/step - loss: 9.6180e-04\n",
            "Epoch 13/50\n",
            "96/96 [==============================] - 1s 8ms/step - loss: 9.2048e-04\n",
            "Epoch 14/50\n",
            "96/96 [==============================] - 1s 8ms/step - loss: 8.8675e-04\n",
            "Epoch 15/50\n",
            "96/96 [==============================] - 1s 8ms/step - loss: 8.4745e-04\n",
            "Epoch 16/50\n",
            "96/96 [==============================] - 1s 8ms/step - loss: 9.1152e-04\n",
            "Epoch 17/50\n",
            "96/96 [==============================] - 1s 8ms/step - loss: 8.8882e-04\n",
            "Epoch 18/50\n",
            "96/96 [==============================] - 1s 8ms/step - loss: 8.2224e-04\n",
            "Epoch 19/50\n",
            "96/96 [==============================] - 1s 8ms/step - loss: 7.9072e-04\n",
            "Epoch 20/50\n",
            "96/96 [==============================] - 1s 8ms/step - loss: 7.9071e-04\n",
            "Epoch 21/50\n",
            "96/96 [==============================] - 1s 8ms/step - loss: 7.5402e-04\n",
            "Epoch 22/50\n",
            "96/96 [==============================] - 1s 8ms/step - loss: 7.7646e-04\n",
            "Epoch 23/50\n",
            "96/96 [==============================] - 1s 8ms/step - loss: 7.7641e-04\n",
            "Epoch 24/50\n",
            "96/96 [==============================] - 1s 11ms/step - loss: 7.3907e-04\n",
            "Epoch 25/50\n",
            "96/96 [==============================] - 1s 12ms/step - loss: 7.0443e-04\n",
            "Epoch 26/50\n",
            "96/96 [==============================] - 1s 11ms/step - loss: 6.9018e-04\n",
            "Epoch 27/50\n",
            "96/96 [==============================] - 1s 9ms/step - loss: 6.6119e-04\n",
            "Epoch 28/50\n",
            "96/96 [==============================] - 1s 8ms/step - loss: 7.1919e-04\n",
            "Epoch 29/50\n",
            "96/96 [==============================] - 1s 8ms/step - loss: 7.1996e-04\n",
            "Epoch 30/50\n",
            "96/96 [==============================] - 1s 8ms/step - loss: 6.6264e-04\n",
            "Epoch 31/50\n",
            "96/96 [==============================] - 1s 9ms/step - loss: 6.4240e-04\n",
            "Epoch 32/50\n",
            "96/96 [==============================] - 1s 8ms/step - loss: 6.4684e-04\n",
            "Epoch 33/50\n",
            "96/96 [==============================] - 1s 8ms/step - loss: 6.4534e-04\n",
            "Epoch 34/50\n",
            "96/96 [==============================] - 1s 8ms/step - loss: 6.1724e-04\n",
            "Epoch 35/50\n",
            "96/96 [==============================] - 1s 8ms/step - loss: 6.6135e-04\n",
            "Epoch 36/50\n",
            "96/96 [==============================] - 1s 8ms/step - loss: 6.0685e-04\n",
            "Epoch 37/50\n",
            "96/96 [==============================] - 1s 8ms/step - loss: 6.0873e-04\n",
            "Epoch 38/50\n",
            "96/96 [==============================] - 1s 9ms/step - loss: 5.9095e-04\n",
            "Epoch 39/50\n",
            "96/96 [==============================] - 1s 13ms/step - loss: 5.7883e-04\n",
            "Epoch 40/50\n",
            "96/96 [==============================] - 1s 13ms/step - loss: 5.9227e-04\n",
            "Epoch 41/50\n",
            "96/96 [==============================] - 1s 9ms/step - loss: 5.4297e-04\n",
            "Epoch 42/50\n",
            "96/96 [==============================] - 1s 8ms/step - loss: 5.6048e-04\n",
            "Epoch 43/50\n",
            "96/96 [==============================] - 1s 8ms/step - loss: 5.4943e-04\n",
            "Epoch 44/50\n",
            "96/96 [==============================] - 1s 8ms/step - loss: 5.6852e-04\n",
            "Epoch 45/50\n",
            "96/96 [==============================] - 1s 8ms/step - loss: 5.5323e-04\n",
            "Epoch 46/50\n",
            "96/96 [==============================] - 1s 8ms/step - loss: 5.5397e-04\n",
            "Epoch 47/50\n",
            "96/96 [==============================] - 1s 8ms/step - loss: 5.1301e-04\n",
            "Epoch 48/50\n",
            "96/96 [==============================] - 1s 8ms/step - loss: 5.5880e-04\n",
            "Epoch 49/50\n",
            "96/96 [==============================] - 1s 8ms/step - loss: 5.4023e-04\n",
            "Epoch 50/50\n",
            "96/96 [==============================] - 1s 8ms/step - loss: 5.3440e-04\n",
            "192/192 [==============================] - 1s 3ms/step\n",
            "Detected anomalies:\n",
            "306\n"
          ]
        }
      ],
      "source": [
        "sequence_length = 10  # Adjust as needed\n",
        "# Create sequences for training\n",
        "sequences = []\n",
        "for i in range(len(X_scaled) - sequence_length):\n",
        "    sequences.append(X_scaled[i:i+sequence_length])\n",
        "\n",
        "# Convert list of sequences to array\n",
        "sequences = np.array(sequences)\n",
        "\n",
        "# Split data into input and target\n",
        "X_train = sequences[:, :-1]  # All but the last time step as input\n",
        "y_train = sequences[:, -1]   # Last time step as target\n",
        "\n",
        "# Define LSTM model\n",
        "model = Sequential()\n",
        "model.add(LSTM(64, input_shape=(X_train.shape[1], X_train.shape[2])))\n",
        "model.add(Dense(X_train.shape[2]))  # Output layer with same number of features as input\n",
        "model.compile(optimizer='adam', loss='mse')\n",
        "\n",
        "# Train the model\n",
        "model.fit(X_train, y_train, epochs=50, batch_size=64, shuffle=True)\n",
        "\n",
        "# Make predictions on the training data\n",
        "y_pred = model.predict(X_train)\n",
        "\n",
        "# Calculate reconstruction error for each data point\n",
        "mse = np.mean(np.power(y_train - y_pred, 2), axis=1)\n",
        "\n",
        "# Calculate the threshold\n",
        "threshold = np.percentile(mse, 95)  # Example: consider 95th percentile as threshold\n",
        "\n",
        "# Flag anomalies based on the threshold\n",
        "num_additional_zeros = len(df) - len(mse) + sequence_length - 1\n",
        "anomaly_flags = np.concatenate((np.zeros(num_additional_zeros, dtype=bool), mse > threshold))\n",
        "\n",
        "# Ensure lengths match without padding or trimming\n",
        "anomaly_flags = anomaly_flags[:len(df)]\n",
        "\n",
        "# Assign the anomaly flags to the DataFrame\n",
        "df['is_anomaly'] = anomaly_flags\n",
        "\n",
        "# Print detected anomalies\n",
        "anomalies = df[df['is_anomaly']]\n",
        "print(\"Detected anomalies:\")\n",
        "num_rows, num_cols = anomalies.shape\n",
        "print(num_rows)\n"
      ]
    },
    {
      "cell_type": "code",
      "execution_count": null,
      "metadata": {
        "colab": {
          "base_uri": "https://localhost:8080/"
        },
        "id": "nMceMWvtVm02",
        "outputId": "e306df5a-e6fc-4077-b99b-2bc7a2b87ac3"
      },
      "outputs": [
        {
          "name": "stdout",
          "output_type": "stream",
          "text": [
            "Accuracy: 0.9412724306688418\n"
          ]
        }
      ],
      "source": [
        "import pandas as pd\n",
        "from sklearn.model_selection import train_test_split\n",
        "from sklearn.neighbors import KNeighborsClassifier\n",
        "from sklearn.metrics import accuracy_score\n",
        "\n",
        "# Create a new DataFrame without the date column\n",
        "data = df.drop(columns=['date'])\n",
        "\n",
        "\n",
        "# Assuming df contains both features and target variable\n",
        "# Separate features and target variable\n",
        "X = data.drop(columns=['is_anomaly'])\n",
        "y = data['is_anomaly']\n",
        "\n",
        "# Split the data into training and testing sets\n",
        "X_train, X_test, y_train, y_test = train_test_split(X, y, test_size=0.3, random_state=42)\n",
        "\n",
        "# Create a KNN classifier object\n",
        "k = 3  # Define the value of k\n",
        "knn = KNeighborsClassifier(n_neighbors=k)\n",
        "\n",
        "# Train the KNN classifier\n",
        "knn.fit(X_train, y_train)\n",
        "\n",
        "# Predict the labels for the test set\n",
        "y_pred = knn.predict(X_test)\n",
        "\n",
        "# Calculate the accuracy of the model\n",
        "accuracy = accuracy_score(y_test, y_pred)\n",
        "print(\"Accuracy:\", accuracy)"
      ]
    }
  ],
  "metadata": {
    "colab": {
      "provenance": []
    },
    "kernelspec": {
      "display_name": "Python 3",
      "name": "python3"
    },
    "language_info": {
      "name": "python"
    }
  },
  "nbformat": 4,
  "nbformat_minor": 0
}
